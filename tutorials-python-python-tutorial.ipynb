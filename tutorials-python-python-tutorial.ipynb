{
 "cells": [
  {
   "cell_type": "code",
   "execution_count": 1,
   "metadata": {},
   "outputs": [
    {
     "name": "stdout",
     "output_type": "stream",
     "text": [
      "\n",
      "The following command must be run outside of the IPython shell:\n",
      "\n",
      "    $ pip install numpy\n",
      "\n",
      "The Python package manager (pip) can only be used from outside of IPython.\n",
      "Please reissue the `pip` command in a separate terminal or command prompt.\n",
      "\n",
      "See the Python documentation for more informations on how to install packages:\n",
      "\n",
      "    https://docs.python.org/3/installing/\n"
     ]
    }
   ],
   "source": [
    "pip install numpy\n"
   ]
  },
  {
   "cell_type": "code",
   "execution_count": 6,
   "metadata": {},
   "outputs": [
    {
     "name": "stdout",
     "output_type": "stream",
     "text": [
      "<class 'numpy.ndarray'>\n",
      "(3,)\n",
      "1 2 3\n",
      "[5 2 3]\n",
      "(2, 3)\n",
      "1 2 4\n"
     ]
    }
   ],
   "source": [
    "import numpy as np\n",
    "a = np.array([1, 2, 3])   # Create a rank 1 array\n",
    "print(type(a))            # Prints \"<class 'numpy.ndarray'>\"\n",
    "print(a.shape)            # Prints \"(3,)\"\n",
    "print(a[0], a[1], a[2])   # Prints \"1 2 3\"\n",
    "a[0] = 5                  # Change an element of the array\n",
    "print(a)                  # Prints \"[5, 2, 3]\"\n",
    "\n",
    "b = np.array([[1,2,3],[4,5,6]])    # Create a rank 2 array\n",
    "print(b.shape)                     # Prints \"(2, 3)\"\n",
    "print(b[0, 0], b[0, 1], b[1, 0])   # Prints \"1 2 4\"\n"
   ]
  },
  {
   "cell_type": "code",
   "execution_count": 5,
   "metadata": {},
   "outputs": [
    {
     "ename": "FileNotFoundError",
     "evalue": "[Errno 2] No such file or directory: 'inflammation-01.csv'",
     "output_type": "error",
     "traceback": [
      "\u001b[1;31m---------------------------------------------------------------------------\u001b[0m",
      "\u001b[1;31mFileNotFoundError\u001b[0m                         Traceback (most recent call last)",
      "\u001b[1;32m<ipython-input-5-9c8db3c7c8ee>\u001b[0m in \u001b[0;36m<module>\u001b[1;34m()\u001b[0m\n\u001b[0;32m      1\u001b[0m \u001b[1;32mimport\u001b[0m \u001b[0mnumpy\u001b[0m \u001b[1;32mas\u001b[0m \u001b[0mnp\u001b[0m\u001b[1;33m\u001b[0m\u001b[0m\n\u001b[1;32m----> 2\u001b[1;33m \u001b[0mnumpy\u001b[0m\u001b[1;33m.\u001b[0m\u001b[0mloadtxt\u001b[0m\u001b[1;33m(\u001b[0m\u001b[0mfname\u001b[0m\u001b[1;33m=\u001b[0m\u001b[1;34m'inflammation-01.csv'\u001b[0m\u001b[1;33m,\u001b[0m \u001b[0mdelimiter\u001b[0m\u001b[1;33m=\u001b[0m\u001b[1;34m','\u001b[0m\u001b[1;33m)\u001b[0m\u001b[1;33m\u001b[0m\u001b[0m\n\u001b[0m",
      "\u001b[1;32mC:\\Program Files (x86)\\Microsoft Visual Studio\\Shared\\Anaconda3_64\\lib\\site-packages\\numpy\\lib\\npyio.py\u001b[0m in \u001b[0;36mloadtxt\u001b[1;34m(fname, dtype, comments, delimiter, converters, skiprows, usecols, unpack, ndmin)\u001b[0m\n\u001b[0;32m    896\u001b[0m                 \u001b[0mfh\u001b[0m \u001b[1;33m=\u001b[0m \u001b[0miter\u001b[0m\u001b[1;33m(\u001b[0m\u001b[0mopen\u001b[0m\u001b[1;33m(\u001b[0m\u001b[0mfname\u001b[0m\u001b[1;33m,\u001b[0m \u001b[1;34m'U'\u001b[0m\u001b[1;33m)\u001b[0m\u001b[1;33m)\u001b[0m\u001b[1;33m\u001b[0m\u001b[0m\n\u001b[0;32m    897\u001b[0m             \u001b[1;32melse\u001b[0m\u001b[1;33m:\u001b[0m\u001b[1;33m\u001b[0m\u001b[0m\n\u001b[1;32m--> 898\u001b[1;33m                 \u001b[0mfh\u001b[0m \u001b[1;33m=\u001b[0m \u001b[0miter\u001b[0m\u001b[1;33m(\u001b[0m\u001b[0mopen\u001b[0m\u001b[1;33m(\u001b[0m\u001b[0mfname\u001b[0m\u001b[1;33m)\u001b[0m\u001b[1;33m)\u001b[0m\u001b[1;33m\u001b[0m\u001b[0m\n\u001b[0m\u001b[0;32m    899\u001b[0m         \u001b[1;32melse\u001b[0m\u001b[1;33m:\u001b[0m\u001b[1;33m\u001b[0m\u001b[0m\n\u001b[0;32m    900\u001b[0m             \u001b[0mfh\u001b[0m \u001b[1;33m=\u001b[0m \u001b[0miter\u001b[0m\u001b[1;33m(\u001b[0m\u001b[0mfname\u001b[0m\u001b[1;33m)\u001b[0m\u001b[1;33m\u001b[0m\u001b[0m\n",
      "\u001b[1;31mFileNotFoundError\u001b[0m: [Errno 2] No such file or directory: 'inflammation-01.csv'"
     ]
    }
   ],
   "source": [
    "import numpy as np\n",
    "numpy.loadtxt(fname='inflammation-01.csv', delimiter=',')"
   ]
  },
  {
   "cell_type": "code",
   "execution_count": null,
   "metadata": {
    "collapsed": true
   },
   "outputs": [],
   "source": [
    "# mean value \n",
    "print(numpy.mean(data))\n",
    "\n",
    "small = data[:3, 36:] #printing 0 till 2 and 36 till the end\n",
    "print('small is:')\n",
    "print(small)\n"
   ]
  },
  {
   "cell_type": "code",
   "execution_count": 4,
   "metadata": {},
   "outputs": [
    {
     "name": "stdout",
     "output_type": "stream",
     "text": [
      "Fri Apr  3 00:14:57 2020\n"
     ]
    }
   ],
   "source": [
    "import time\n",
    "print(time.ctime())"
   ]
  },
  {
   "cell_type": "code",
   "execution_count": 10,
   "metadata": {},
   "outputs": [
    {
     "name": "stdout",
     "output_type": "stream",
     "text": [
      "first three characters: oxy\n",
      "last three characters: gen\n",
      "A = \n",
      "[[1 2 3]\n",
      " [4 5 6]\n",
      " [7 8 9]]\n",
      "B = \n",
      "[[1 2 3 1 2 3]\n",
      " [4 5 6 4 5 6]\n",
      " [7 8 9 7 8 9]]\n",
      "C = \n",
      "[[1 2 3]\n",
      " [4 5 6]\n",
      " [7 8 9]\n",
      " [1 2 3]\n",
      " [4 5 6]\n",
      " [7 8 9]]\n"
     ]
    }
   ],
   "source": [
    "#print('maximum inflammation:', maxval)\n",
    "#print('minimum inflammation:', minval)\n",
    "#print('standard deviation:', stdval)\n",
    "\n",
    "#NUMPY FUNCTIONS\n",
    "\n",
    "#print('maximum inflammation for patient 2:', numpy.max(data[2, :]))\n",
    "#maximum inflammation for patient 2: 19.0\n",
    "    \n",
    "element = 'oxygen'\n",
    "print('first three characters:', element[0:3])\n",
    "print('last three characters:', element[3:6])\n",
    "\n",
    "#Stacking\n",
    "import numpy\n",
    "\n",
    "A = numpy.array([[1,2,3], [4,5,6], [7, 8, 9]])\n",
    "print('A = ')\n",
    "print(A)\n",
    "\n",
    "B = numpy.hstack([A, A])\n",
    "print('B = ')\n",
    "print(B)\n",
    "\n",
    "C = numpy.vstack([A, A])\n",
    "print('C = ')\n",
    "print(C)"
   ]
  },
  {
   "cell_type": "code",
   "execution_count": null,
   "metadata": {
    "collapsed": true
   },
   "outputs": [],
   "source": [
    "Import a library into a program using import libraryname.\n",
    "\n",
    "Use the numpy library to work with arrays in Python.\n",
    "\n",
    "The expression array.shape gives the shape of an array.\n",
    "\n",
    "Use array[x, y] to select a single element from a 2D array.\n",
    "\n",
    "Array indices start at 0, not 1.\n",
    "\n",
    "Use low:high to specify a slice that includes the indices from low to high-1.\n",
    "\n",
    "Use # some kind of explanation to add comments to programs.\n",
    "\n",
    "Use numpy.mean(array), numpy.max(array), and numpy.min(array) to calculate simple statistics.\n",
    "\n",
    "Use numpy.mean(array, axis=0) or numpy.mean(array, axis=1) to calculate statistics across the specified axis."
   ]
  },
  {
   "cell_type": "code",
   "execution_count": 34,
   "metadata": {},
   "outputs": [
    {
     "data": {
      "image/png": "[encoded data removed]",
      "text/plain": [
       "<matplotlib.figure.Figure at 0x20a28fbaba8>"
      ]
     },
     "metadata": {},
     "output_type": "display_data"
    },
    {
     "data": {
      "image/png": "[encoded data removed]",
      "text/plain": [
       "<matplotlib.figure.Figure at 0x20a2956e7f0>"
      ]
     },
     "metadata": {},
     "output_type": "display_data"
    },
    {
     "data": {
      "image/png": "[encoded data removed]",
      "text/plain": [
       "<matplotlib.figure.Figure at 0x20a2893af98>"
      ]
     },
     "metadata": {},
     "output_type": "display_data"
    }
   ],
   "source": [
    "#Visualizing Tabular Data\n",
    "\n",
    "import numpy \n",
    "\n",
    "\n",
    "\n",
    "data = numpy.loadtxt(fname='C:\\\\temp\\\\inflammation-01.csv', delimiter=',')\n",
    "\n",
    "\n",
    "\n",
    "\n",
    "\n",
    "import matplotlib.pyplot\n",
    "image = matplotlib.pyplot.imshow(data)\n",
    "matplotlib.pyplot.show()\n",
    "\n",
    "\n",
    "ave_inflammation = numpy.mean(data, axis=0)\n",
    "ave_plot = matplotlib.pyplot.plot(ave_inflammation)\n",
    "matplotlib.pyplot.show()\n",
    "\n",
    "\n",
    "max_plot = matplotlib.pyplot.plot(numpy.max(data, axis=0))\n",
    "matplotlib.pyplot.show()"
   ]
  },
  {
   "cell_type": "code",
   "execution_count": 35,
   "metadata": {},
   "outputs": [
    {
     "name": "stdout",
     "output_type": "stream",
     "text": [
      "There are 5 vowels\n"
     ]
    }
   ],
   "source": [
    "#Repeating Actions With loops\n",
    "\n",
    "length = 0\n",
    "for vowel in 'aeiou':\n",
    "    length = length + 1\n",
    "print('There are', length, 'vowels')\n"
   ]
  },
  {
   "cell_type": "code",
   "execution_count": 43,
   "metadata": {},
   "outputs": [
    {
     "name": "stdout",
     "output_type": "stream",
     "text": [
      "Ingredients in my salsa: ['peppers', 'onions', 'cilantro', 'tomatoes'] ['hot peppers', 'onions', 'cilantro', 'tomatoes']\n",
      "[['pepper', 'zucchini', 'onion']]\n",
      "['pepper', 'zucchini', 'onion']\n",
      "pepper\n",
      "[10, 12.5, 'Unknown']\n",
      "[10, 12.5, 'Unknown', 11]\n",
      "primes: [1, 3, 5, 7, 2]\n",
      "odds: [1, 3, 5, 7, 2]\n",
      "primes: [1, 3, 5, 7, 2]\n",
      "odds: [1, 3, 5, 7]\n"
     ]
    }
   ],
   "source": [
    "#Values in Lists\n",
    "\n",
    "salsa = ['peppers', 'onions', 'cilantro', 'tomatoes']\n",
    "my_salsa = list(salsa)        # <-- makes a *copy* of the list\n",
    "salsa[0] = 'hot peppers'\n",
    "print('Ingredients in my salsa:', my_salsa, salsa)\n",
    "\n",
    "\n",
    "#Lists and Lists\n",
    "\n",
    "x = [['pepper', 'zucchini', 'onion'],\n",
    "     ['cabbage', 'lettuce', 'garlic'],\n",
    "     ['apple', 'pear', 'banana']]\n",
    "\n",
    "print([x[0]])\n",
    "print(x[0])\n",
    "print(x[0][0])\n",
    "\n",
    "sample_ages = [10, 12.5, 'Unknown']\n",
    "print (sample_ages)\n",
    "sample_ages.append(11)\n",
    "print (sample_ages)\n",
    "\n",
    "\n",
    "#removed_element = odds.pop(0)# Takes out last item of list\n",
    "\n",
    "odds = [1, 3, 5, 7]\n",
    "primes = odds\n",
    "primes.append(2)\n",
    "print('primes:', primes)\n",
    "print('odds:', odds)\n",
    "\n",
    "odds = [1, 3, 5, 7]\n",
    "primes = list(odds)\n",
    "primes.append(2)\n",
    "print('primes:', primes)\n",
    "print('odds:', odds)\n"
   ]
  },
  {
   "cell_type": "code",
   "execution_count": 44,
   "metadata": {},
   "outputs": [
    {
     "name": "stdout",
     "output_type": "stream",
     "text": [
      "group: Drosophila\n",
      "species: melanogaster\n",
      "autosomes: ['2', '3', '4']\n",
      "last: 4\n"
     ]
    }
   ],
   "source": [
    "binomial_name = \"Drosophila melanogaster\"\n",
    "group = binomial_name[0:10]\n",
    "print(\"group:\", group)\n",
    "\n",
    "species = binomial_name[11:23]\n",
    "print(\"species:\", species)\n",
    "\n",
    "chromosomes = [\"X\", \"Y\", \"2\", \"3\", \"4\"]\n",
    "autosomes = chromosomes[2:5]\n",
    "print(\"autosomes:\", autosomes)\n",
    "\n",
    "last = chromosomes[-1]\n",
    "print(\"last:\", last)"
   ]
  },
  {
   "cell_type": "code",
   "execution_count": 46,
   "metadata": {
    "collapsed": true
   },
   "outputs": [],
   "source": [
    "#Analyzing Data\n",
    "import glob\n",
    "import numpy\n",
    "import matplotlib.pyplot\n",
    "\n",
    "filenames = sorted(glob.glob('inflammation*.csv'))\n",
    "filenames = filenames[0:3]\n",
    "for filename in filenames:\n",
    "    print(filename)\n",
    "\n",
    "    data = numpy.loadtxt(fname=filename, delimiter=',')\n",
    "\n",
    "    fig = matplotlib.pyplot.figure(figsize=(10.0, 3.0))\n",
    "\n",
    "    axes1 = fig.add_subplot(1, 3, 1)\n",
    "    axes2 = fig.add_subplot(1, 3, 2)\n",
    "    axes3 = fig.add_subplot(1, 3, 3)\n",
    "\n",
    "    axes1.set_ylabel('average')\n",
    "    axes1.plot(numpy.mean(data, axis=0))\n",
    "\n",
    "    axes2.set_ylabel('max')\n",
    "    axes2.plot(numpy.max(data, axis=0))\n",
    "\n",
    "    axes3.set_ylabel('min')\n",
    "    axes3.plot(numpy.min(data, axis=0))\n",
    "\n",
    "    fig.tight_layout()\n",
    "    matplotlib.pyplot.show()"
   ]
  },
  {
   "cell_type": "code",
   "execution_count": 51,
   "metadata": {},
   "outputs": [
    {
     "ename": "NameError",
     "evalue": "name 'offset_mean' is not defined",
     "output_type": "error",
     "traceback": [
      "\u001b[1;31m---------------------------------------------------------------------------\u001b[0m",
      "\u001b[1;31mNameError\u001b[0m                                 Traceback (most recent call last)",
      "\u001b[1;32m<ipython-input-51-2d1b09a51a31>\u001b[0m in \u001b[0;36m<module>\u001b[1;34m()\u001b[0m\n\u001b[0;32m     36\u001b[0m \u001b[1;33m\u001b[0m\u001b[0m\n\u001b[0;32m     37\u001b[0m     \u001b[0mdata\u001b[0m \u001b[1;33m=\u001b[0m \u001b[0mnumpy\u001b[0m\u001b[1;33m.\u001b[0m\u001b[0mloadtxt\u001b[0m\u001b[1;33m(\u001b[0m\u001b[0mfname\u001b[0m\u001b[1;33m=\u001b[0m\u001b[1;34m'inflammation-01.csv'\u001b[0m\u001b[1;33m,\u001b[0m \u001b[0mdelimiter\u001b[0m\u001b[1;33m=\u001b[0m\u001b[1;34m','\u001b[0m\u001b[1;33m)\u001b[0m\u001b[1;33m\u001b[0m\u001b[0m\n\u001b[1;32m---> 38\u001b[1;33m \u001b[0mprint\u001b[0m\u001b[1;33m(\u001b[0m\u001b[0moffset_mean\u001b[0m\u001b[1;33m(\u001b[0m\u001b[0mdata\u001b[0m\u001b[1;33m,\u001b[0m \u001b[1;36m0\u001b[0m\u001b[1;33m)\u001b[0m\u001b[1;33m)\u001b[0m\u001b[1;33m\u001b[0m\u001b[0m\n\u001b[0m",
      "\u001b[1;31mNameError\u001b[0m: name 'offset_mean' is not defined"
     ]
    }
   ],
   "source": [
    "#Functions\n",
    "\n",
    "def visualize(filename):\n",
    "\n",
    "    data = numpy.loadtxt(fname=filename, delimiter=',')\n",
    "\n",
    "    fig = matplotlib.pyplot.figure(figsize=(10.0, 3.0))\n",
    "\n",
    "    axes1 = fig.add_subplot(1, 3, 1)\n",
    "    axes2 = fig.add_subplot(1, 3, 2)\n",
    "    axes3 = fig.add_subplot(1, 3, 3)\n",
    "\n",
    "    axes1.set_ylabel('average')\n",
    "    axes1.plot(numpy.mean(data, axis=0))\n",
    "\n",
    "    axes2.set_ylabel('max')\n",
    "    axes2.plot(numpy.max(data, axis=0))\n",
    "\n",
    "    axes3.set_ylabel('min')\n",
    "    axes3.plot(numpy.min(data, axis=0))\n",
    "\n",
    "    fig.tight_layout()\n",
    "    matplotlib.pyplot.show()\n",
    "    \n",
    "#Define Offset Name\n",
    "\n",
    "filenames = sorted(glob.glob('inflammation*.csv'))\n",
    "\n",
    "for filename in filenames[:3]:\n",
    "    print(filename)\n",
    "    visualize(filename)\n",
    "    detect_problems(filename)\n",
    "    \n",
    "    def offset_mean(data, target_mean_value):\n",
    "        return (data - numpy.mean(data)) + target_mean_value\n",
    "   \n",
    "    data = numpy.loadtxt(fname='inflammation-01.csv', delimiter=',')\n",
    "print(offset_mean(data, 0))"
   ]
  },
  {
   "cell_type": "code",
   "execution_count": null,
   "metadata": {
    "collapsed": true
   },
   "outputs": [],
   "source": [
    "#Defensive Programming\n",
    "\n",
    "Program defensively, i.e., assume that errors are going to arise, and write code to detect them when they do.\n",
    "\n",
    "Put assertions in programs to check their state as they run, and to help readers understand how those programs are supposed to work.\n",
    "\n",
    "Use preconditions to check that the inputs to a function are safe to use.\n",
    "\n",
    "Use postconditions to check that the output from a function is safe to use.\n",
    "\n",
    "Write tests before writing code in order to help determine exactly what that code is supposed to do."
   ]
  },
  {
   "cell_type": "code",
   "execution_count": null,
   "metadata": {
    "collapsed": true
   },
   "outputs": [],
   "source": [
    "#Command Line Prompts\n",
    "\n",
    "The sys library connects a Python program to the system it is running on.\n",
    "\n",
    "The list sys.argv contains the command-line arguments that a program was run with.\n",
    "\n",
    "Avoid silent failures.\n",
    "\n",
    "The pseudo-file sys.stdin connects to a program’s standard input."
   ]
  }
 ],
 "metadata": {
  "kernelspec": {
   "display_name": "Python 3",
   "language": "python",
   "name": "python3"
  },
  "language_info": {
   "codemirror_mode": {
    "name": "ipython",
    "version": 3
   },
   "file_extension": ".py",
   "mimetype": "text/x-python",
   "name": "python",
   "nbconvert_exporter": "python",
   "pygments_lexer": "ipython3",
   "version": "3.6.2"
  }
 },
 "nbformat": 4,
 "nbformat_minor": 2
}
