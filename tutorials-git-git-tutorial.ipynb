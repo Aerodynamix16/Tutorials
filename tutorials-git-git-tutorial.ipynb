{
 "cells": [
  {
   "cell_type": "code",
   "execution_count": 6,
   "metadata": {},
   "outputs": [
    {
     "ename": "SyntaxError",
     "evalue": "invalid syntax (<ipython-input-6-878c8e695fa4>, line 5)",
     "output_type": "error",
     "traceback": [
      "\u001b[1;36m  File \u001b[1;32m\"<ipython-input-6-878c8e695fa4>\"\u001b[1;36m, line \u001b[1;32m5\u001b[0m\n\u001b[1;33m    $ cd ~/Desktop\u001b[0m\n\u001b[1;37m    ^\u001b[0m\n\u001b[1;31mSyntaxError\u001b[0m\u001b[1;31m:\u001b[0m invalid syntax\n"
     ]
    }
   ],
   "source": [
    "#ALL GIT INSTALLMENTS/PROCEDURES WERE DONE DIRECTLY ON GITBASH\n",
    "#THIS IS EXCLUSIVELY FOR COMMENTS, NOTES, AND EXAMPLES\n",
    "\n",
    "\n",
    "\n",
    "#Creating a Repo\n",
    "%%bash \n",
    "# Command for Git on Jupyter Notebooks\n",
    "\n",
    "$ cd ~/Desktop\n",
    "$ mkdir test\n",
    "$ cd test # This is to create a new Directory in the Desktop\n",
    "\n",
    "$ git init #Creating a Repo\n",
    "\n",
    "$ git status # Makes sure everything is set up properly\n",
    "\n",
    "#Example\n",
    "$ cd ~/Desktop   # return to Desktop directory\n",
    "$ cd planets     # go into planets directory, which is already a Git repository\n",
    "$ ls -a          # ensure the .git subdirectory is still present in the planets directory\n",
    "$ mkdir moons    # make a subdirectory planets/moons\n",
    "$ cd moons       # go into moons subdirectory\n",
    "$ git init       # make the moons subdirectory a Git repository\n",
    "$ ls -a          # ensure the .git subdirectory is present indicating we have created a new Git repository\n",
    "\n",
    "\n"
   ]
  },
  {
   "cell_type": "code",
   "execution_count": null,
   "metadata": {
    "collapsed": true
   },
   "outputs": [],
   "source": [
    "#Tracking changes\n",
    "\n",
    "$ nano mars.txt #Creates a mars txtfile (for edit)\n",
    "\n",
    "$ cat mars.txt #Outputs txt file\n",
    "\n",
    "$ git add mars.txt\n",
    "\n",
    "$ git commit -m \"Start notes on Mars as a base\" #Record changes as a commit...-m means message for later purposes\n",
    "\n",
    "$ git log #Logging all of the history\n",
    "\n",
    "$ git diff #Current state of the file vs last commit\n",
    "\n",
    "#Output:\n",
    "diff --git a/mars.txt b/mars.txt\n",
    "index df0654a..315bf3a 100644\n",
    "--- a/mars.txt\n",
    "+++ b/mars.txt\n",
    "@@ -1 +1,2 @@\n",
    " Cold and dry, but everything is my favorite color\n",
    "+The two moons may be a problem for Wolfman\n",
    "\n",
    "$ git log -1 #Shows last log\n",
    "commit 005937fbe2a98fb83f0ade869025dc2636b4dad5\n",
    "Author: Vlad Dracula <vlad@tran.sylvan.ia>\n",
    "Date:   Thu Aug 22 10:14:07 2013 -0400\n",
    "\n",
    "   Discuss concerns about Mars' climate for Mummy\n",
    "\n",
    "$ touch spaceships/apollo-11 spaceships/sputnik-1 #Add 2 files\n",
    "$ git status\n",
    "$ git add spaceships\n",
    "$ git status\n",
    "\n",
    "\n",
    "Overview:\n",
    "#git status shows the status of a repository.\n",
    "\n",
    "#Files can be stored in a project’s working directory (which users see), the staging area (where the next commit is being built up) and the local repository (where commits are permanently recorded).\n",
    "\n",
    "#git add puts files in the staging area.\n",
    "\n",
    "#git commit saves the staged content as a new commit in the local repository.\n",
    "\n"
   ]
  },
  {
   "cell_type": "code",
   "execution_count": null,
   "metadata": {
    "collapsed": true
   },
   "outputs": [],
   "source": [
    "#Exploring History\n",
    "\n",
    "$ git diff HEAD mars.txt #Changes made by header file\n",
    "diff --git a/mars.txt b/mars.txt\n",
    "index b36abfd..0848c8d 100644\n",
    "--- a/mars.txt\n",
    "+++ b/mars.txt\n",
    "@@ -1,3 +1,4 @@\n",
    " Cold and dry, but everything is my favorite color\n",
    " The two moons may be a problem for Wolfman\n",
    " But the Mummy will appreciate the lack of humidity\n",
    "+An ill-considered change.\n",
    "\n",
    "$ git diff f22b25e mars.txt #The first 7 digits of the file can intrdoduce the directory\n",
    "\n",
    "$ git checkout f22b25e mars.txt #Recovers old versions of files\n",
    "\n",
    "\n"
   ]
  },
  {
   "cell_type": "code",
   "execution_count": null,
   "metadata": {
    "collapsed": true
   },
   "outputs": [],
   "source": [
    "#Ignoring Things\n",
    "\n",
    "$ nano .gitignore\n",
    "$ cat .gitignore\n",
    "*.dat\n",
    "results/\n",
    "\n",
    "$ git status --ignored\n",
    "On branch master\n",
    "Ignored files:\n",
    " (use \"git add -f <file>...\" to include in what will be committed)\n",
    "\n",
    "        a.dat\n",
    "        b.dat\n",
    "        c.dat\n",
    "        results/\n",
    "\n",
    "nothing to commit, working directory clean"
   ]
  },
  {
   "cell_type": "code",
   "execution_count": null,
   "metadata": {
    "collapsed": true
   },
   "outputs": [],
   "source": [
    "#Remote\n",
    "\n",
    "$ git remote add origin https://github.com/vlad/planets.git\n",
    "    \n",
    "$ git remote -v\n",
    "origin   https://github.com/vlad/planets.git (push)\n",
    "origin   https://github.com/vlad/planets.git (fetch)\n",
    "    \n",
    "    \n",
    "$ git push origin master #DONE ON GITBASH\n",
    "Enumerating objects: 16, done.\n",
    "Counting objects: 100% (16/16), done.\n",
    "Delta compression using up to 8 threads.\n",
    "Compressing objects: 100% (11/11), done.\n",
    "Writing objects: 100% (16/16), 1.45 KiB | 372.00 KiB/s, done.\n",
    "Total 16 (delta 2), reused 0 (delta 0)\n",
    "remote: Resolving deltas: 100% (2/2), done.\n",
    "To https://github.com/vlad/planets.git\n",
    " * [new branch]      master -> master\n",
    "\n",
    "\n",
    "\n",
    "A local Git repository can be connected to one or more remote repositories.\n",
    "\n",
    "Use the HTTPS protocol to connect to remote repositories until you have learned how to set up SSH.\n",
    "\n",
    "git push copies changes from a local repository to a remote repository.\n",
    "\n",
    "git pull copies changes from a remote repository to a local repository."
   ]
  },
  {
   "cell_type": "code",
   "execution_count": null,
   "metadata": {
    "collapsed": true
   },
   "outputs": [],
   "source": [
    "#Collab\n",
    "\n",
    "The git remote family of commands is used to set up and alter the remotes associated with a repository. Here are some of the most useful ones:\n",
    "\n",
    "git remote -v lists all the remotes that are configured (we already used this in the last episode)\n",
    "git remote add [name] [url] is used to add a new remote\n",
    "git remote remove [name] removes a remote. Note that it doesn’t affect the remote repository at all - it just removes the link to it from the local repo.\n",
    "git remote set-url [name] [newurl] changes the URL that is associated with the remote. This is useful if it has moved, e.g. to a different GitHub account, or from GitHub to a different hosting service. Or, if we made a typo when adding it!\n",
    "git remote rename [oldname] [newname] changes the local alias by which a remote is known - its name. For example, one could use this to change upstream to fred.\n",
    "\n",
    "\n"
   ]
  }
 ],
 "metadata": {
  "kernelspec": {
   "display_name": "Python 3",
   "language": "python",
   "name": "python3"
  },
  "language_info": {
   "codemirror_mode": {
    "name": "ipython",
    "version": 3
   },
   "file_extension": ".py",
   "mimetype": "text/x-python",
   "name": "python",
   "nbconvert_exporter": "python",
   "pygments_lexer": "ipython3",
   "version": "3.6.2"
  }
 },
 "nbformat": 4,
 "nbformat_minor": 2
}
